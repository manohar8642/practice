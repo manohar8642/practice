{
 "cells": [
  {
   "cell_type": "code",
   "execution_count": 0,
   "metadata": {
    "colab": {
     "base_uri": "https://localhost:8080/",
     "height": 343
    },
    "colab_type": "code",
    "executionInfo": {
     "elapsed": 14802,
     "status": "ok",
     "timestamp": 1590918411651,
     "user": {
      "displayName": "manohar krishna",
      "photoUrl": "https://lh5.googleusercontent.com/-SOBYuW07vDs/AAAAAAAAAAI/AAAAAAAAAhA/-SN8VKCcpDY/s64/photo.jpg",
      "userId": "16281596230097021798"
     },
     "user_tz": -330
    },
    "id": "lqSMVLCQ2_X1",
    "outputId": "050f4e6f-2a47-4893-94f0-a7aa9aa5247c"
   },
   "outputs": [
    {
     "name": "stdout",
     "output_type": "stream",
     "text": [
      "Collecting catboost\n",
      "\u001b[?25l  Downloading https://files.pythonhosted.org/packages/b2/aa/e61819d04ef2bbee778bf4b3a748db1f3ad23512377e43ecfdc3211437a0/catboost-0.23.2-cp36-none-manylinux1_x86_64.whl (64.8MB)\n",
      "\u001b[K     |████████████████████████████████| 64.8MB 70kB/s \n",
      "\u001b[?25hRequirement already satisfied: scipy in /usr/local/lib/python3.6/dist-packages (from catboost) (1.4.1)\n",
      "Requirement already satisfied: numpy>=1.16.0 in /usr/local/lib/python3.6/dist-packages (from catboost) (1.18.4)\n",
      "Requirement already satisfied: matplotlib in /usr/local/lib/python3.6/dist-packages (from catboost) (3.2.1)\n",
      "Requirement already satisfied: pandas>=0.24.0 in /usr/local/lib/python3.6/dist-packages (from catboost) (1.0.3)\n",
      "Requirement already satisfied: graphviz in /usr/local/lib/python3.6/dist-packages (from catboost) (0.10.1)\n",
      "Requirement already satisfied: plotly in /usr/local/lib/python3.6/dist-packages (from catboost) (4.4.1)\n",
      "Requirement already satisfied: six in /usr/local/lib/python3.6/dist-packages (from catboost) (1.12.0)\n",
      "Requirement already satisfied: pyparsing!=2.0.4,!=2.1.2,!=2.1.6,>=2.0.1 in /usr/local/lib/python3.6/dist-packages (from matplotlib->catboost) (2.4.7)\n",
      "Requirement already satisfied: python-dateutil>=2.1 in /usr/local/lib/python3.6/dist-packages (from matplotlib->catboost) (2.8.1)\n",
      "Requirement already satisfied: kiwisolver>=1.0.1 in /usr/local/lib/python3.6/dist-packages (from matplotlib->catboost) (1.2.0)\n",
      "Requirement already satisfied: cycler>=0.10 in /usr/local/lib/python3.6/dist-packages (from matplotlib->catboost) (0.10.0)\n",
      "Requirement already satisfied: pytz>=2017.2 in /usr/local/lib/python3.6/dist-packages (from pandas>=0.24.0->catboost) (2018.9)\n",
      "Requirement already satisfied: retrying>=1.3.3 in /usr/local/lib/python3.6/dist-packages (from plotly->catboost) (1.3.3)\n",
      "Installing collected packages: catboost\n",
      "Successfully installed catboost-0.23.2\n"
     ]
    }
   ],
   "source": [
    "pip install catboost"
   ]
  },
  {
   "cell_type": "code",
   "execution_count": 0,
   "metadata": {
    "colab": {},
    "colab_type": "code",
    "id": "TIG3d4WFGpM4"
   },
   "outputs": [],
   "source": [
    "import pandas as pd\n",
    "import numpy as np\n",
    "import time\n",
    "from tqdm import tqdm\n",
    "from sklearn import *\n",
    "from lightgbm import LGBMClassifier\n",
    "from lightgbm import LGBMRegressor\n",
    "from sklearn.ensemble import GradientBoostingClassifier\n",
    "from catboost import CatBoostClassifier\n",
    "from sklearn.ensemble import StackingClassifier\n",
    "from sklearn.linear_model import LogisticRegression\n",
    "from xgboost import XGBClassifier\n",
    "from sklearn.multiclass import OneVsRestClassifier"
   ]
  },
  {
   "cell_type": "code",
   "execution_count": 0,
   "metadata": {
    "colab": {
     "base_uri": "https://localhost:8080/",
     "height": 122
    },
    "colab_type": "code",
    "executionInfo": {
     "elapsed": 152108,
     "status": "ok",
     "timestamp": 1590918549868,
     "user": {
      "displayName": "manohar krishna",
      "photoUrl": "https://lh5.googleusercontent.com/-SOBYuW07vDs/AAAAAAAAAAI/AAAAAAAAAhA/-SN8VKCcpDY/s64/photo.jpg",
      "userId": "16281596230097021798"
     },
     "user_tz": -330
    },
    "id": "3DOagbtv3E-M",
    "outputId": "0e96efae-a675-4594-9aa1-2304b11b7ced"
   },
   "outputs": [
    {
     "name": "stdout",
     "output_type": "stream",
     "text": [
      "Go to this URL in a browser: https://accounts.google.com/o/oauth2/auth?client_id=947318989803-6bn6qk8qdgf4n4g3pfee6491hc0brc4i.apps.googleusercontent.com&redirect_uri=urn%3aietf%3awg%3aoauth%3a2.0%3aoob&response_type=code&scope=email%20https%3a%2f%2fwww.googleapis.com%2fauth%2fdocs.test%20https%3a%2f%2fwww.googleapis.com%2fauth%2fdrive%20https%3a%2f%2fwww.googleapis.com%2fauth%2fdrive.photos.readonly%20https%3a%2f%2fwww.googleapis.com%2fauth%2fpeopleapi.readonly\n",
      "\n",
      "Enter your authorization code:\n",
      "··········\n",
      "Mounted at /content/gdrive\n"
     ]
    }
   ],
   "source": [
    "from google.colab import drive\n",
    "\n",
    "drive.mount('/content/gdrive', force_remount=True)"
   ]
  },
  {
   "cell_type": "code",
   "execution_count": 0,
   "metadata": {
    "colab": {
     "base_uri": "https://localhost:8080/",
     "height": 34
    },
    "colab_type": "code",
    "executionInfo": {
     "elapsed": 1445,
     "status": "ok",
     "timestamp": 1590918551343,
     "user": {
      "displayName": "manohar krishna",
      "photoUrl": "https://lh5.googleusercontent.com/-SOBYuW07vDs/AAAAAAAAAAI/AAAAAAAAAhA/-SN8VKCcpDY/s64/photo.jpg",
      "userId": "16281596230097021798"
     },
     "user_tz": -330
    },
    "id": "fjZ8DeCi3HTC",
    "outputId": "bcf3be8d-6b12-42e2-f737-0a840fcd36ff"
   },
   "outputs": [
    {
     "name": "stdout",
     "output_type": "stream",
     "text": [
      "/content/gdrive/My Drive\n"
     ]
    }
   ],
   "source": [
    "cd /content/gdrive/My\\ Drive"
   ]
  },
  {
   "cell_type": "code",
   "execution_count": 0,
   "metadata": {
    "colab": {},
    "colab_type": "code",
    "id": "5C3V4x0J3gyl"
   },
   "outputs": [],
   "source": [
    "train = pd.read_excel('train_banking.xlsx')\n",
    "test = pd.read_excel('test_banking.xlsx')"
   ]
  },
  {
   "cell_type": "code",
   "execution_count": 0,
   "metadata": {
    "colab": {
     "base_uri": "https://localhost:8080/",
     "height": 85
    },
    "colab_type": "code",
    "executionInfo": {
     "elapsed": 2088,
     "status": "ok",
     "timestamp": 1590918636621,
     "user": {
      "displayName": "manohar krishna",
      "photoUrl": "https://lh5.googleusercontent.com/-SOBYuW07vDs/AAAAAAAAAAI/AAAAAAAAAhA/-SN8VKCcpDY/s64/photo.jpg",
      "userId": "16281596230097021798"
     },
     "user_tz": -330
    },
    "id": "_cHmsqrr_k4T",
    "outputId": "3b610407-eb7f-4ae1-dc67-820d58abe628"
   },
   "outputs": [
    {
     "data": {
      "text/plain": [
       "2    70580\n",
       "3    59923\n",
       "1    33806\n",
       "Name: Interest_Rate, dtype: int64"
      ]
     },
     "execution_count": 7,
     "metadata": {
      "tags": []
     },
     "output_type": "execute_result"
    }
   ],
   "source": [
    "train['Interest_Rate'].value_counts()"
   ]
  },
  {
   "cell_type": "code",
   "execution_count": 0,
   "metadata": {
    "colab": {
     "base_uri": "https://localhost:8080/",
     "height": 148
    },
    "colab_type": "code",
    "executionInfo": {
     "elapsed": 1851,
     "status": "ok",
     "timestamp": 1590918636626,
     "user": {
      "displayName": "manohar krishna",
      "photoUrl": "https://lh5.googleusercontent.com/-SOBYuW07vDs/AAAAAAAAAAI/AAAAAAAAAhA/-SN8VKCcpDY/s64/photo.jpg",
      "userId": "16281596230097021798"
     },
     "user_tz": -330
    },
    "id": "QpJRBlFY3qTU",
    "outputId": "ab2c1ce5-20d5-4b4e-d9ec-02b134bcf431"
   },
   "outputs": [
    {
     "data": {
      "text/html": [
       "<div>\n",
       "<style scoped>\n",
       "    .dataframe tbody tr th:only-of-type {\n",
       "        vertical-align: middle;\n",
       "    }\n",
       "\n",
       "    .dataframe tbody tr th {\n",
       "        vertical-align: top;\n",
       "    }\n",
       "\n",
       "    .dataframe thead th {\n",
       "        text-align: right;\n",
       "    }\n",
       "</style>\n",
       "<table border=\"1\" class=\"dataframe\">\n",
       "  <thead>\n",
       "    <tr style=\"text-align: right;\">\n",
       "      <th></th>\n",
       "      <th>Loan_ID</th>\n",
       "      <th>Loan_Amount_Requested</th>\n",
       "      <th>Length_Employed</th>\n",
       "      <th>Home_Owner</th>\n",
       "      <th>Annual_Income</th>\n",
       "      <th>Income_Verified</th>\n",
       "      <th>Purpose_Of_Loan</th>\n",
       "      <th>Debt_To_Income</th>\n",
       "      <th>Inquiries_Last_6Mo</th>\n",
       "      <th>Months_Since_Deliquency</th>\n",
       "      <th>Number_Open_Accounts</th>\n",
       "      <th>Total_Accounts</th>\n",
       "      <th>Gender</th>\n",
       "      <th>Interest_Rate</th>\n",
       "    </tr>\n",
       "  </thead>\n",
       "  <tbody>\n",
       "    <tr>\n",
       "      <th>0</th>\n",
       "      <td>10000001</td>\n",
       "      <td>7000</td>\n",
       "      <td>&lt; 1 year</td>\n",
       "      <td>Rent</td>\n",
       "      <td>68000.0</td>\n",
       "      <td>not verified</td>\n",
       "      <td>car</td>\n",
       "      <td>18.37</td>\n",
       "      <td>0</td>\n",
       "      <td>NaN</td>\n",
       "      <td>9</td>\n",
       "      <td>14</td>\n",
       "      <td>Female</td>\n",
       "      <td>1</td>\n",
       "    </tr>\n",
       "    <tr>\n",
       "      <th>1</th>\n",
       "      <td>10000002</td>\n",
       "      <td>30000</td>\n",
       "      <td>4 years</td>\n",
       "      <td>Mortgage</td>\n",
       "      <td>NaN</td>\n",
       "      <td>VERIFIED - income</td>\n",
       "      <td>debt_consolidation</td>\n",
       "      <td>14.93</td>\n",
       "      <td>0</td>\n",
       "      <td>17.0</td>\n",
       "      <td>12</td>\n",
       "      <td>24</td>\n",
       "      <td>Female</td>\n",
       "      <td>3</td>\n",
       "    </tr>\n",
       "  </tbody>\n",
       "</table>\n",
       "</div>"
      ],
      "text/plain": [
       "    Loan_ID  Loan_Amount_Requested  ...  Gender Interest_Rate\n",
       "0  10000001                   7000  ...  Female             1\n",
       "1  10000002                  30000  ...  Female             3\n",
       "\n",
       "[2 rows x 14 columns]"
      ]
     },
     "execution_count": 8,
     "metadata": {
      "tags": []
     },
     "output_type": "execute_result"
    }
   ],
   "source": [
    "train.head(2)"
   ]
  },
  {
   "cell_type": "code",
   "execution_count": 0,
   "metadata": {
    "colab": {
     "base_uri": "https://localhost:8080/",
     "height": 148
    },
    "colab_type": "code",
    "executionInfo": {
     "elapsed": 1667,
     "status": "ok",
     "timestamp": 1590918636628,
     "user": {
      "displayName": "manohar krishna",
      "photoUrl": "https://lh5.googleusercontent.com/-SOBYuW07vDs/AAAAAAAAAAI/AAAAAAAAAhA/-SN8VKCcpDY/s64/photo.jpg",
      "userId": "16281596230097021798"
     },
     "user_tz": -330
    },
    "id": "w4QVqvbm3tja",
    "outputId": "15561ee0-3b54-4da8-d669-e1122b71af8b"
   },
   "outputs": [
    {
     "data": {
      "text/html": [
       "<div>\n",
       "<style scoped>\n",
       "    .dataframe tbody tr th:only-of-type {\n",
       "        vertical-align: middle;\n",
       "    }\n",
       "\n",
       "    .dataframe tbody tr th {\n",
       "        vertical-align: top;\n",
       "    }\n",
       "\n",
       "    .dataframe thead th {\n",
       "        text-align: right;\n",
       "    }\n",
       "</style>\n",
       "<table border=\"1\" class=\"dataframe\">\n",
       "  <thead>\n",
       "    <tr style=\"text-align: right;\">\n",
       "      <th></th>\n",
       "      <th>Loan_ID</th>\n",
       "      <th>Loan_Amount_Requested</th>\n",
       "      <th>Length_Employed</th>\n",
       "      <th>Home_Owner</th>\n",
       "      <th>Annual_Income</th>\n",
       "      <th>Income_Verified</th>\n",
       "      <th>Purpose_Of_Loan</th>\n",
       "      <th>Debt_To_Income</th>\n",
       "      <th>Inquiries_Last_6Mo</th>\n",
       "      <th>Months_Since_Deliquency</th>\n",
       "      <th>Number_Open_Accounts</th>\n",
       "      <th>Total_Accounts</th>\n",
       "      <th>Gender</th>\n",
       "    </tr>\n",
       "  </thead>\n",
       "  <tbody>\n",
       "    <tr>\n",
       "      <th>0</th>\n",
       "      <td>10164310</td>\n",
       "      <td>27500</td>\n",
       "      <td>10+ years</td>\n",
       "      <td>Mortgage</td>\n",
       "      <td>129000.0</td>\n",
       "      <td>VERIFIED - income</td>\n",
       "      <td>debt_consolidation</td>\n",
       "      <td>12.87</td>\n",
       "      <td>0</td>\n",
       "      <td>68.0</td>\n",
       "      <td>10</td>\n",
       "      <td>37</td>\n",
       "      <td>Male</td>\n",
       "    </tr>\n",
       "    <tr>\n",
       "      <th>1</th>\n",
       "      <td>10164311</td>\n",
       "      <td>26000</td>\n",
       "      <td>10+ years</td>\n",
       "      <td>NaN</td>\n",
       "      <td>110000.0</td>\n",
       "      <td>not verified</td>\n",
       "      <td>credit_card</td>\n",
       "      <td>11.37</td>\n",
       "      <td>0</td>\n",
       "      <td>NaN</td>\n",
       "      <td>6</td>\n",
       "      <td>23</td>\n",
       "      <td>Male</td>\n",
       "    </tr>\n",
       "  </tbody>\n",
       "</table>\n",
       "</div>"
      ],
      "text/plain": [
       "    Loan_ID  Loan_Amount_Requested  ... Total_Accounts Gender\n",
       "0  10164310                  27500  ...             37   Male\n",
       "1  10164311                  26000  ...             23   Male\n",
       "\n",
       "[2 rows x 13 columns]"
      ]
     },
     "execution_count": 9,
     "metadata": {
      "tags": []
     },
     "output_type": "execute_result"
    }
   ],
   "source": [
    "test.head(2)"
   ]
  },
  {
   "cell_type": "code",
   "execution_count": 0,
   "metadata": {
    "colab": {},
    "colab_type": "code",
    "id": "5Drc_kaE3ujt"
   },
   "outputs": [],
   "source": [
    "train1 = train.drop('Interest_Rate', axis = 1)"
   ]
  },
  {
   "cell_type": "code",
   "execution_count": 0,
   "metadata": {
    "colab": {},
    "colab_type": "code",
    "id": "1ozP7CpG4Gv3"
   },
   "outputs": [],
   "source": [
    "combined = train1.append(test)"
   ]
  },
  {
   "cell_type": "code",
   "execution_count": 0,
   "metadata": {
    "colab": {
     "base_uri": "https://localhost:8080/",
     "height": 148
    },
    "colab_type": "code",
    "executionInfo": {
     "elapsed": 2013,
     "status": "ok",
     "timestamp": 1590918637693,
     "user": {
      "displayName": "manohar krishna",
      "photoUrl": "https://lh5.googleusercontent.com/-SOBYuW07vDs/AAAAAAAAAAI/AAAAAAAAAhA/-SN8VKCcpDY/s64/photo.jpg",
      "userId": "16281596230097021798"
     },
     "user_tz": -330
    },
    "id": "YX1YU08X4ID3",
    "outputId": "4606bf8a-d518-4254-8c23-bb972c2cfb93"
   },
   "outputs": [
    {
     "data": {
      "text/html": [
       "<div>\n",
       "<style scoped>\n",
       "    .dataframe tbody tr th:only-of-type {\n",
       "        vertical-align: middle;\n",
       "    }\n",
       "\n",
       "    .dataframe tbody tr th {\n",
       "        vertical-align: top;\n",
       "    }\n",
       "\n",
       "    .dataframe thead th {\n",
       "        text-align: right;\n",
       "    }\n",
       "</style>\n",
       "<table border=\"1\" class=\"dataframe\">\n",
       "  <thead>\n",
       "    <tr style=\"text-align: right;\">\n",
       "      <th></th>\n",
       "      <th>Loan_ID</th>\n",
       "      <th>Loan_Amount_Requested</th>\n",
       "      <th>Length_Employed</th>\n",
       "      <th>Home_Owner</th>\n",
       "      <th>Annual_Income</th>\n",
       "      <th>Income_Verified</th>\n",
       "      <th>Purpose_Of_Loan</th>\n",
       "      <th>Debt_To_Income</th>\n",
       "      <th>Inquiries_Last_6Mo</th>\n",
       "      <th>Months_Since_Deliquency</th>\n",
       "      <th>Number_Open_Accounts</th>\n",
       "      <th>Total_Accounts</th>\n",
       "      <th>Gender</th>\n",
       "    </tr>\n",
       "  </thead>\n",
       "  <tbody>\n",
       "    <tr>\n",
       "      <th>0</th>\n",
       "      <td>10000001</td>\n",
       "      <td>7000</td>\n",
       "      <td>&lt; 1 year</td>\n",
       "      <td>Rent</td>\n",
       "      <td>68000.0</td>\n",
       "      <td>not verified</td>\n",
       "      <td>car</td>\n",
       "      <td>18.37</td>\n",
       "      <td>0</td>\n",
       "      <td>NaN</td>\n",
       "      <td>9</td>\n",
       "      <td>14</td>\n",
       "      <td>Female</td>\n",
       "    </tr>\n",
       "    <tr>\n",
       "      <th>1</th>\n",
       "      <td>10000002</td>\n",
       "      <td>30000</td>\n",
       "      <td>4 years</td>\n",
       "      <td>Mortgage</td>\n",
       "      <td>NaN</td>\n",
       "      <td>VERIFIED - income</td>\n",
       "      <td>debt_consolidation</td>\n",
       "      <td>14.93</td>\n",
       "      <td>0</td>\n",
       "      <td>17.0</td>\n",
       "      <td>12</td>\n",
       "      <td>24</td>\n",
       "      <td>Female</td>\n",
       "    </tr>\n",
       "  </tbody>\n",
       "</table>\n",
       "</div>"
      ],
      "text/plain": [
       "    Loan_ID  Loan_Amount_Requested  ... Total_Accounts  Gender\n",
       "0  10000001                   7000  ...             14  Female\n",
       "1  10000002                  30000  ...             24  Female\n",
       "\n",
       "[2 rows x 13 columns]"
      ]
     },
     "execution_count": 12,
     "metadata": {
      "tags": []
     },
     "output_type": "execute_result"
    }
   ],
   "source": [
    "combined.head(2)"
   ]
  },
  {
   "cell_type": "code",
   "execution_count": 0,
   "metadata": {
    "colab": {
     "base_uri": "https://localhost:8080/",
     "height": 357
    },
    "colab_type": "code",
    "executionInfo": {
     "elapsed": 2724,
     "status": "ok",
     "timestamp": 1590918638645,
     "user": {
      "displayName": "manohar krishna",
      "photoUrl": "https://lh5.googleusercontent.com/-SOBYuW07vDs/AAAAAAAAAAI/AAAAAAAAAhA/-SN8VKCcpDY/s64/photo.jpg",
      "userId": "16281596230097021798"
     },
     "user_tz": -330
    },
    "id": "hb0XIRQF4cYR",
    "outputId": "273528ca-7345-412f-afac-871f70237e9c"
   },
   "outputs": [
    {
     "name": "stdout",
     "output_type": "stream",
     "text": [
      "<class 'pandas.core.frame.DataFrame'>\n",
      "Int64Index: 273850 entries, 0 to 109540\n",
      "Data columns (total 13 columns):\n",
      " #   Column                   Non-Null Count   Dtype  \n",
      "---  ------                   --------------   -----  \n",
      " 0   Loan_ID                  273850 non-null  int64  \n",
      " 1   Loan_Amount_Requested    273850 non-null  int64  \n",
      " 2   Length_Employed          261543 non-null  object \n",
      " 3   Home_Owner               231790 non-null  object \n",
      " 4   Annual_Income            231850 non-null  float64\n",
      " 5   Income_Verified          273850 non-null  object \n",
      " 6   Purpose_Of_Loan          273850 non-null  object \n",
      " 7   Debt_To_Income           273850 non-null  float64\n",
      " 8   Inquiries_Last_6Mo       273850 non-null  int64  \n",
      " 9   Months_Since_Deliquency  126612 non-null  float64\n",
      " 10  Number_Open_Accounts     273850 non-null  int64  \n",
      " 11  Total_Accounts           273850 non-null  int64  \n",
      " 12  Gender                   273850 non-null  object \n",
      "dtypes: float64(3), int64(5), object(5)\n",
      "memory usage: 29.3+ MB\n"
     ]
    }
   ],
   "source": [
    "combined.info()"
   ]
  },
  {
   "cell_type": "code",
   "execution_count": 0,
   "metadata": {
    "colab": {
     "base_uri": "https://localhost:8080/",
     "height": 102
    },
    "colab_type": "code",
    "executionInfo": {
     "elapsed": 2616,
     "status": "ok",
     "timestamp": 1590918638649,
     "user": {
      "displayName": "manohar krishna",
      "photoUrl": "https://lh5.googleusercontent.com/-SOBYuW07vDs/AAAAAAAAAAI/AAAAAAAAAhA/-SN8VKCcpDY/s64/photo.jpg",
      "userId": "16281596230097021798"
     },
     "user_tz": -330
    },
    "id": "BjnM9QGn5LrZ",
    "outputId": "be50a136-7d01-45cb-8635-b1f621b379e6"
   },
   "outputs": [
    {
     "data": {
      "text/plain": [
       "Index(['Loan_ID', 'Loan_Amount_Requested', 'Length_Employed', 'Home_Owner',\n",
       "       'Annual_Income', 'Income_Verified', 'Purpose_Of_Loan', 'Debt_To_Income',\n",
       "       'Inquiries_Last_6Mo', 'Months_Since_Deliquency', 'Number_Open_Accounts',\n",
       "       'Total_Accounts', 'Gender'],\n",
       "      dtype='object')"
      ]
     },
     "execution_count": 14,
     "metadata": {
      "tags": []
     },
     "output_type": "execute_result"
    }
   ],
   "source": [
    "combined.columns"
   ]
  },
  {
   "cell_type": "code",
   "execution_count": 0,
   "metadata": {
    "colab": {},
    "colab_type": "code",
    "id": "SXVNWmim4i5X"
   },
   "outputs": [],
   "source": [
    "for column in ['Length_Employed', 'Home_Owner',]:\n",
    "    combined[column].fillna(combined[column].mode()[0], inplace=True)"
   ]
  },
  {
   "cell_type": "code",
   "execution_count": 0,
   "metadata": {
    "colab": {},
    "colab_type": "code",
    "id": "Du1GIyqS5gKi"
   },
   "outputs": [],
   "source": [
    "combined['Annual_Income'].fillna(combined['Annual_Income'].mean(), inplace=True)"
   ]
  },
  {
   "cell_type": "code",
   "execution_count": 0,
   "metadata": {
    "colab": {
     "base_uri": "https://localhost:8080/",
     "height": 357
    },
    "colab_type": "code",
    "executionInfo": {
     "elapsed": 2406,
     "status": "ok",
     "timestamp": 1590918639234,
     "user": {
      "displayName": "manohar krishna",
      "photoUrl": "https://lh5.googleusercontent.com/-SOBYuW07vDs/AAAAAAAAAAI/AAAAAAAAAhA/-SN8VKCcpDY/s64/photo.jpg",
      "userId": "16281596230097021798"
     },
     "user_tz": -330
    },
    "id": "-bJJjqe3576J",
    "outputId": "e828f014-6816-4123-9399-a1bba2d75fa4"
   },
   "outputs": [
    {
     "name": "stdout",
     "output_type": "stream",
     "text": [
      "<class 'pandas.core.frame.DataFrame'>\n",
      "Int64Index: 273850 entries, 0 to 109540\n",
      "Data columns (total 13 columns):\n",
      " #   Column                   Non-Null Count   Dtype  \n",
      "---  ------                   --------------   -----  \n",
      " 0   Loan_ID                  273850 non-null  int64  \n",
      " 1   Loan_Amount_Requested    273850 non-null  int64  \n",
      " 2   Length_Employed          273850 non-null  object \n",
      " 3   Home_Owner               273850 non-null  object \n",
      " 4   Annual_Income            273850 non-null  float64\n",
      " 5   Income_Verified          273850 non-null  object \n",
      " 6   Purpose_Of_Loan          273850 non-null  object \n",
      " 7   Debt_To_Income           273850 non-null  float64\n",
      " 8   Inquiries_Last_6Mo       273850 non-null  int64  \n",
      " 9   Months_Since_Deliquency  126612 non-null  float64\n",
      " 10  Number_Open_Accounts     273850 non-null  int64  \n",
      " 11  Total_Accounts           273850 non-null  int64  \n",
      " 12  Gender                   273850 non-null  object \n",
      "dtypes: float64(3), int64(5), object(5)\n",
      "memory usage: 29.3+ MB\n"
     ]
    }
   ],
   "source": [
    "combined.info()"
   ]
  },
  {
   "cell_type": "code",
   "execution_count": 0,
   "metadata": {
    "colab": {},
    "colab_type": "code",
    "id": "JsKgzgG_59eQ"
   },
   "outputs": [],
   "source": [
    "train2 = combined.iloc[:164309]"
   ]
  },
  {
   "cell_type": "code",
   "execution_count": 0,
   "metadata": {
    "colab": {},
    "colab_type": "code",
    "id": "4W0S57E_7t2s"
   },
   "outputs": [],
   "source": [
    "test2 = combined.iloc[164309:]"
   ]
  },
  {
   "cell_type": "code",
   "execution_count": 0,
   "metadata": {
    "colab": {},
    "colab_type": "code",
    "id": "5Q4-UNij8Do2"
   },
   "outputs": [],
   "source": [
    "train3 = pd.merge(train2, train[['Loan_ID','Interest_Rate']], left_on='Loan_ID',right_on='Loan_ID',how='inner')"
   ]
  },
  {
   "cell_type": "code",
   "execution_count": 0,
   "metadata": {
    "colab": {
     "base_uri": "https://localhost:8080/",
     "height": 34
    },
    "colab_type": "code",
    "executionInfo": {
     "elapsed": 1599,
     "status": "ok",
     "timestamp": 1590918640621,
     "user": {
      "displayName": "manohar krishna",
      "photoUrl": "https://lh5.googleusercontent.com/-SOBYuW07vDs/AAAAAAAAAAI/AAAAAAAAAhA/-SN8VKCcpDY/s64/photo.jpg",
      "userId": "16281596230097021798"
     },
     "user_tz": -330
    },
    "id": "uUaI2DQ6-iL3",
    "outputId": "77c2f4c0-2da3-4180-da35-99941faa18d8"
   },
   "outputs": [
    {
     "data": {
      "text/plain": [
       "(164309, 14)"
      ]
     },
     "execution_count": 21,
     "metadata": {
      "tags": []
     },
     "output_type": "execute_result"
    }
   ],
   "source": [
    "train3.shape"
   ]
  },
  {
   "cell_type": "code",
   "execution_count": 0,
   "metadata": {
    "colab": {},
    "colab_type": "code",
    "id": "OeDSObd7--5c"
   },
   "outputs": [],
   "source": [
    "test3 = test2"
   ]
  },
  {
   "cell_type": "code",
   "execution_count": 0,
   "metadata": {
    "colab": {},
    "colab_type": "code",
    "id": "4Prdg4RXBevG"
   },
   "outputs": [],
   "source": [
    "train4 = train3.drop('Months_Since_Deliquency', axis =1)\n",
    "test4 = test3.drop('Months_Since_Deliquency', axis =1)"
   ]
  },
  {
   "cell_type": "code",
   "execution_count": 0,
   "metadata": {
    "colab": {
     "base_uri": "https://localhost:8080/",
     "height": 102
    },
    "colab_type": "code",
    "executionInfo": {
     "elapsed": 1491,
     "status": "ok",
     "timestamp": 1590918641692,
     "user": {
      "displayName": "manohar krishna",
      "photoUrl": "https://lh5.googleusercontent.com/-SOBYuW07vDs/AAAAAAAAAAI/AAAAAAAAAhA/-SN8VKCcpDY/s64/photo.jpg",
      "userId": "16281596230097021798"
     },
     "user_tz": -330
    },
    "id": "dmQj1dbSNnS2",
    "outputId": "41c6c3cc-4754-431d-ce42-8cea50f0489a"
   },
   "outputs": [
    {
     "data": {
      "text/plain": [
       "Index(['Loan_ID', 'Loan_Amount_Requested', 'Length_Employed', 'Home_Owner',\n",
       "       'Annual_Income', 'Income_Verified', 'Purpose_Of_Loan', 'Debt_To_Income',\n",
       "       'Inquiries_Last_6Mo', 'Number_Open_Accounts', 'Total_Accounts',\n",
       "       'Gender', 'Interest_Rate'],\n",
       "      dtype='object')"
      ]
     },
     "execution_count": 24,
     "metadata": {
      "tags": []
     },
     "output_type": "execute_result"
    }
   ],
   "source": [
    "train4.columns"
   ]
  },
  {
   "cell_type": "code",
   "execution_count": 0,
   "metadata": {
    "colab": {},
    "colab_type": "code",
    "id": "jfgCYkk9NkY9"
   },
   "outputs": [],
   "source": [
    "train4[['Loan_ID', 'Loan_Amount_Requested',\n",
    "       'Annual_Income', 'Debt_To_Income',\n",
    "       'Inquiries_Last_6Mo', 'Number_Open_Accounts', 'Total_Accounts',]] = train4[['Loan_ID', 'Loan_Amount_Requested',\n",
    "       'Annual_Income', 'Debt_To_Income',\n",
    "       'Inquiries_Last_6Mo', 'Number_Open_Accounts', 'Total_Accounts',]].astype(int)"
   ]
  },
  {
   "cell_type": "code",
   "execution_count": 0,
   "metadata": {
    "colab": {},
    "colab_type": "code",
    "id": "ZnhPQMTKS91w"
   },
   "outputs": [],
   "source": [
    "test4[['Loan_ID', 'Loan_Amount_Requested',\n",
    "       'Annual_Income', 'Debt_To_Income',\n",
    "       'Inquiries_Last_6Mo', 'Number_Open_Accounts', 'Total_Accounts',]] = test4[['Loan_ID', 'Loan_Amount_Requested',\n",
    "       'Annual_Income', 'Debt_To_Income',\n",
    "       'Inquiries_Last_6Mo', 'Number_Open_Accounts', 'Total_Accounts',]].astype(int)"
   ]
  },
  {
   "cell_type": "code",
   "execution_count": 0,
   "metadata": {
    "colab": {},
    "colab_type": "code",
    "id": "bySgTlljAnzV"
   },
   "outputs": [],
   "source": [
    "# dummy = pd.get_dummies(train4)\n",
    "# train5 = pd.concat([train4, dummy], axis = 1)"
   ]
  },
  {
   "cell_type": "code",
   "execution_count": 0,
   "metadata": {
    "colab": {},
    "colab_type": "code",
    "id": "iQSH-lEwSXoZ"
   },
   "outputs": [],
   "source": [
    "dummy1 = pd.get_dummies(train4)\n",
    "train5 = train4.merge(dummy1, left_index=True, right_index=True)"
   ]
  },
  {
   "cell_type": "code",
   "execution_count": 0,
   "metadata": {
    "colab": {},
    "colab_type": "code",
    "id": "ovNS1CzjTGrL"
   },
   "outputs": [],
   "source": [
    "dummy2 = pd.get_dummies(test4)\n",
    "test5 = test4.merge(dummy2, left_index=True, right_index=True)"
   ]
  },
  {
   "cell_type": "code",
   "execution_count": 0,
   "metadata": {
    "colab": {
     "base_uri": "https://localhost:8080/",
     "height": 165
    },
    "colab_type": "code",
    "executionInfo": {
     "elapsed": 1187,
     "status": "ok",
     "timestamp": 1590918644928,
     "user": {
      "displayName": "manohar krishna",
      "photoUrl": "https://lh5.googleusercontent.com/-SOBYuW07vDs/AAAAAAAAAAI/AAAAAAAAAhA/-SN8VKCcpDY/s64/photo.jpg",
      "userId": "16281596230097021798"
     },
     "user_tz": -330
    },
    "id": "dumFDb3ZFDXK",
    "outputId": "36f9477c-63d1-44f0-9bd3-d3d6c29a451f"
   },
   "outputs": [
    {
     "data": {
      "text/html": [
       "<div>\n",
       "<style scoped>\n",
       "    .dataframe tbody tr th:only-of-type {\n",
       "        vertical-align: middle;\n",
       "    }\n",
       "\n",
       "    .dataframe tbody tr th {\n",
       "        vertical-align: top;\n",
       "    }\n",
       "\n",
       "    .dataframe thead th {\n",
       "        text-align: right;\n",
       "    }\n",
       "</style>\n",
       "<table border=\"1\" class=\"dataframe\">\n",
       "  <thead>\n",
       "    <tr style=\"text-align: right;\">\n",
       "      <th></th>\n",
       "      <th>Loan_ID_x</th>\n",
       "      <th>Loan_Amount_Requested_x</th>\n",
       "      <th>Length_Employed</th>\n",
       "      <th>Home_Owner</th>\n",
       "      <th>Annual_Income_x</th>\n",
       "      <th>Income_Verified</th>\n",
       "      <th>Purpose_Of_Loan</th>\n",
       "      <th>Debt_To_Income_x</th>\n",
       "      <th>Inquiries_Last_6Mo_x</th>\n",
       "      <th>Number_Open_Accounts_x</th>\n",
       "      <th>Total_Accounts_x</th>\n",
       "      <th>Gender</th>\n",
       "      <th>Interest_Rate_x</th>\n",
       "      <th>Loan_ID_y</th>\n",
       "      <th>Loan_Amount_Requested_y</th>\n",
       "      <th>Annual_Income_y</th>\n",
       "      <th>Debt_To_Income_y</th>\n",
       "      <th>Inquiries_Last_6Mo_y</th>\n",
       "      <th>Number_Open_Accounts_y</th>\n",
       "      <th>Total_Accounts_y</th>\n",
       "      <th>Interest_Rate_y</th>\n",
       "      <th>Length_Employed_1 year</th>\n",
       "      <th>Length_Employed_10+ years</th>\n",
       "      <th>Length_Employed_2 years</th>\n",
       "      <th>Length_Employed_3 years</th>\n",
       "      <th>Length_Employed_4 years</th>\n",
       "      <th>Length_Employed_5 years</th>\n",
       "      <th>Length_Employed_6 years</th>\n",
       "      <th>Length_Employed_7 years</th>\n",
       "      <th>Length_Employed_8 years</th>\n",
       "      <th>Length_Employed_9 years</th>\n",
       "      <th>Length_Employed_&lt; 1 year</th>\n",
       "      <th>Home_Owner_Mortgage</th>\n",
       "      <th>Home_Owner_None</th>\n",
       "      <th>Home_Owner_Other</th>\n",
       "      <th>Home_Owner_Own</th>\n",
       "      <th>Home_Owner_Rent</th>\n",
       "      <th>Income_Verified_VERIFIED - income</th>\n",
       "      <th>Income_Verified_VERIFIED - income source</th>\n",
       "      <th>Income_Verified_not verified</th>\n",
       "      <th>Purpose_Of_Loan_car</th>\n",
       "      <th>Purpose_Of_Loan_credit_card</th>\n",
       "      <th>Purpose_Of_Loan_debt_consolidation</th>\n",
       "      <th>Purpose_Of_Loan_educational</th>\n",
       "      <th>Purpose_Of_Loan_home_improvement</th>\n",
       "      <th>Purpose_Of_Loan_house</th>\n",
       "      <th>Purpose_Of_Loan_major_purchase</th>\n",
       "      <th>Purpose_Of_Loan_medical</th>\n",
       "      <th>Purpose_Of_Loan_moving</th>\n",
       "      <th>Purpose_Of_Loan_other</th>\n",
       "      <th>Purpose_Of_Loan_renewable_energy</th>\n",
       "      <th>Purpose_Of_Loan_small_business</th>\n",
       "      <th>Purpose_Of_Loan_vacation</th>\n",
       "      <th>Purpose_Of_Loan_wedding</th>\n",
       "      <th>Gender_Female</th>\n",
       "      <th>Gender_Male</th>\n",
       "    </tr>\n",
       "  </thead>\n",
       "  <tbody>\n",
       "    <tr>\n",
       "      <th>0</th>\n",
       "      <td>10000001</td>\n",
       "      <td>7000</td>\n",
       "      <td>&lt; 1 year</td>\n",
       "      <td>Rent</td>\n",
       "      <td>68000</td>\n",
       "      <td>not verified</td>\n",
       "      <td>car</td>\n",
       "      <td>18</td>\n",
       "      <td>0</td>\n",
       "      <td>9</td>\n",
       "      <td>14</td>\n",
       "      <td>Female</td>\n",
       "      <td>1</td>\n",
       "      <td>10000001</td>\n",
       "      <td>7000</td>\n",
       "      <td>68000</td>\n",
       "      <td>18</td>\n",
       "      <td>0</td>\n",
       "      <td>9</td>\n",
       "      <td>14</td>\n",
       "      <td>1</td>\n",
       "      <td>0</td>\n",
       "      <td>0</td>\n",
       "      <td>0</td>\n",
       "      <td>0</td>\n",
       "      <td>0</td>\n",
       "      <td>0</td>\n",
       "      <td>0</td>\n",
       "      <td>0</td>\n",
       "      <td>0</td>\n",
       "      <td>0</td>\n",
       "      <td>1</td>\n",
       "      <td>0</td>\n",
       "      <td>0</td>\n",
       "      <td>0</td>\n",
       "      <td>0</td>\n",
       "      <td>1</td>\n",
       "      <td>0</td>\n",
       "      <td>0</td>\n",
       "      <td>1</td>\n",
       "      <td>1</td>\n",
       "      <td>0</td>\n",
       "      <td>0</td>\n",
       "      <td>0</td>\n",
       "      <td>0</td>\n",
       "      <td>0</td>\n",
       "      <td>0</td>\n",
       "      <td>0</td>\n",
       "      <td>0</td>\n",
       "      <td>0</td>\n",
       "      <td>0</td>\n",
       "      <td>0</td>\n",
       "      <td>0</td>\n",
       "      <td>0</td>\n",
       "      <td>1</td>\n",
       "      <td>0</td>\n",
       "    </tr>\n",
       "    <tr>\n",
       "      <th>1</th>\n",
       "      <td>10000002</td>\n",
       "      <td>30000</td>\n",
       "      <td>4 years</td>\n",
       "      <td>Mortgage</td>\n",
       "      <td>73392</td>\n",
       "      <td>VERIFIED - income</td>\n",
       "      <td>debt_consolidation</td>\n",
       "      <td>14</td>\n",
       "      <td>0</td>\n",
       "      <td>12</td>\n",
       "      <td>24</td>\n",
       "      <td>Female</td>\n",
       "      <td>3</td>\n",
       "      <td>10000002</td>\n",
       "      <td>30000</td>\n",
       "      <td>73392</td>\n",
       "      <td>14</td>\n",
       "      <td>0</td>\n",
       "      <td>12</td>\n",
       "      <td>24</td>\n",
       "      <td>3</td>\n",
       "      <td>0</td>\n",
       "      <td>0</td>\n",
       "      <td>0</td>\n",
       "      <td>0</td>\n",
       "      <td>1</td>\n",
       "      <td>0</td>\n",
       "      <td>0</td>\n",
       "      <td>0</td>\n",
       "      <td>0</td>\n",
       "      <td>0</td>\n",
       "      <td>0</td>\n",
       "      <td>1</td>\n",
       "      <td>0</td>\n",
       "      <td>0</td>\n",
       "      <td>0</td>\n",
       "      <td>0</td>\n",
       "      <td>1</td>\n",
       "      <td>0</td>\n",
       "      <td>0</td>\n",
       "      <td>0</td>\n",
       "      <td>0</td>\n",
       "      <td>1</td>\n",
       "      <td>0</td>\n",
       "      <td>0</td>\n",
       "      <td>0</td>\n",
       "      <td>0</td>\n",
       "      <td>0</td>\n",
       "      <td>0</td>\n",
       "      <td>0</td>\n",
       "      <td>0</td>\n",
       "      <td>0</td>\n",
       "      <td>0</td>\n",
       "      <td>0</td>\n",
       "      <td>1</td>\n",
       "      <td>0</td>\n",
       "    </tr>\n",
       "  </tbody>\n",
       "</table>\n",
       "</div>"
      ],
      "text/plain": [
       "   Loan_ID_x  Loan_Amount_Requested_x  ... Gender_Female Gender_Male\n",
       "0   10000001                     7000  ...             1           0\n",
       "1   10000002                    30000  ...             1           0\n",
       "\n",
       "[2 rows x 56 columns]"
      ]
     },
     "execution_count": 30,
     "metadata": {
      "tags": []
     },
     "output_type": "execute_result"
    }
   ],
   "source": [
    "train5.head(2)"
   ]
  },
  {
   "cell_type": "code",
   "execution_count": 0,
   "metadata": {
    "colab": {
     "base_uri": "https://localhost:8080/",
     "height": 165
    },
    "colab_type": "code",
    "executionInfo": {
     "elapsed": 986,
     "status": "ok",
     "timestamp": 1590918645579,
     "user": {
      "displayName": "manohar krishna",
      "photoUrl": "https://lh5.googleusercontent.com/-SOBYuW07vDs/AAAAAAAAAAI/AAAAAAAAAhA/-SN8VKCcpDY/s64/photo.jpg",
      "userId": "16281596230097021798"
     },
     "user_tz": -330
    },
    "id": "_tJBhcY0TSCS",
    "outputId": "fae68ede-f5da-4d8f-98ae-6e65bece9fd5"
   },
   "outputs": [
    {
     "data": {
      "text/html": [
       "<div>\n",
       "<style scoped>\n",
       "    .dataframe tbody tr th:only-of-type {\n",
       "        vertical-align: middle;\n",
       "    }\n",
       "\n",
       "    .dataframe tbody tr th {\n",
       "        vertical-align: top;\n",
       "    }\n",
       "\n",
       "    .dataframe thead th {\n",
       "        text-align: right;\n",
       "    }\n",
       "</style>\n",
       "<table border=\"1\" class=\"dataframe\">\n",
       "  <thead>\n",
       "    <tr style=\"text-align: right;\">\n",
       "      <th></th>\n",
       "      <th>Loan_ID_x</th>\n",
       "      <th>Loan_Amount_Requested_x</th>\n",
       "      <th>Length_Employed</th>\n",
       "      <th>Home_Owner</th>\n",
       "      <th>Annual_Income_x</th>\n",
       "      <th>Income_Verified</th>\n",
       "      <th>Purpose_Of_Loan</th>\n",
       "      <th>Debt_To_Income_x</th>\n",
       "      <th>Inquiries_Last_6Mo_x</th>\n",
       "      <th>Number_Open_Accounts_x</th>\n",
       "      <th>Total_Accounts_x</th>\n",
       "      <th>Gender</th>\n",
       "      <th>Loan_ID_y</th>\n",
       "      <th>Loan_Amount_Requested_y</th>\n",
       "      <th>Annual_Income_y</th>\n",
       "      <th>Debt_To_Income_y</th>\n",
       "      <th>Inquiries_Last_6Mo_y</th>\n",
       "      <th>Number_Open_Accounts_y</th>\n",
       "      <th>Total_Accounts_y</th>\n",
       "      <th>Length_Employed_1 year</th>\n",
       "      <th>Length_Employed_10+ years</th>\n",
       "      <th>Length_Employed_2 years</th>\n",
       "      <th>Length_Employed_3 years</th>\n",
       "      <th>Length_Employed_4 years</th>\n",
       "      <th>Length_Employed_5 years</th>\n",
       "      <th>Length_Employed_6 years</th>\n",
       "      <th>Length_Employed_7 years</th>\n",
       "      <th>Length_Employed_8 years</th>\n",
       "      <th>Length_Employed_9 years</th>\n",
       "      <th>Length_Employed_&lt; 1 year</th>\n",
       "      <th>Home_Owner_Mortgage</th>\n",
       "      <th>Home_Owner_None</th>\n",
       "      <th>Home_Owner_Other</th>\n",
       "      <th>Home_Owner_Own</th>\n",
       "      <th>Home_Owner_Rent</th>\n",
       "      <th>Income_Verified_VERIFIED - income</th>\n",
       "      <th>Income_Verified_VERIFIED - income source</th>\n",
       "      <th>Income_Verified_not verified</th>\n",
       "      <th>Purpose_Of_Loan_car</th>\n",
       "      <th>Purpose_Of_Loan_credit_card</th>\n",
       "      <th>Purpose_Of_Loan_debt_consolidation</th>\n",
       "      <th>Purpose_Of_Loan_educational</th>\n",
       "      <th>Purpose_Of_Loan_home_improvement</th>\n",
       "      <th>Purpose_Of_Loan_house</th>\n",
       "      <th>Purpose_Of_Loan_major_purchase</th>\n",
       "      <th>Purpose_Of_Loan_medical</th>\n",
       "      <th>Purpose_Of_Loan_moving</th>\n",
       "      <th>Purpose_Of_Loan_other</th>\n",
       "      <th>Purpose_Of_Loan_renewable_energy</th>\n",
       "      <th>Purpose_Of_Loan_small_business</th>\n",
       "      <th>Purpose_Of_Loan_vacation</th>\n",
       "      <th>Purpose_Of_Loan_wedding</th>\n",
       "      <th>Gender_Female</th>\n",
       "      <th>Gender_Male</th>\n",
       "    </tr>\n",
       "  </thead>\n",
       "  <tbody>\n",
       "    <tr>\n",
       "      <th>0</th>\n",
       "      <td>10164310</td>\n",
       "      <td>27500</td>\n",
       "      <td>10+ years</td>\n",
       "      <td>Mortgage</td>\n",
       "      <td>129000</td>\n",
       "      <td>VERIFIED - income</td>\n",
       "      <td>debt_consolidation</td>\n",
       "      <td>12</td>\n",
       "      <td>0</td>\n",
       "      <td>10</td>\n",
       "      <td>37</td>\n",
       "      <td>Male</td>\n",
       "      <td>10164310</td>\n",
       "      <td>27500</td>\n",
       "      <td>129000</td>\n",
       "      <td>12</td>\n",
       "      <td>0</td>\n",
       "      <td>10</td>\n",
       "      <td>37</td>\n",
       "      <td>0</td>\n",
       "      <td>1</td>\n",
       "      <td>0</td>\n",
       "      <td>0</td>\n",
       "      <td>0</td>\n",
       "      <td>0</td>\n",
       "      <td>0</td>\n",
       "      <td>0</td>\n",
       "      <td>0</td>\n",
       "      <td>0</td>\n",
       "      <td>0</td>\n",
       "      <td>1</td>\n",
       "      <td>0</td>\n",
       "      <td>0</td>\n",
       "      <td>0</td>\n",
       "      <td>0</td>\n",
       "      <td>1</td>\n",
       "      <td>0</td>\n",
       "      <td>0</td>\n",
       "      <td>0</td>\n",
       "      <td>0</td>\n",
       "      <td>1</td>\n",
       "      <td>0</td>\n",
       "      <td>0</td>\n",
       "      <td>0</td>\n",
       "      <td>0</td>\n",
       "      <td>0</td>\n",
       "      <td>0</td>\n",
       "      <td>0</td>\n",
       "      <td>0</td>\n",
       "      <td>0</td>\n",
       "      <td>0</td>\n",
       "      <td>0</td>\n",
       "      <td>0</td>\n",
       "      <td>1</td>\n",
       "    </tr>\n",
       "    <tr>\n",
       "      <th>1</th>\n",
       "      <td>10164311</td>\n",
       "      <td>26000</td>\n",
       "      <td>10+ years</td>\n",
       "      <td>Mortgage</td>\n",
       "      <td>110000</td>\n",
       "      <td>not verified</td>\n",
       "      <td>credit_card</td>\n",
       "      <td>11</td>\n",
       "      <td>0</td>\n",
       "      <td>6</td>\n",
       "      <td>23</td>\n",
       "      <td>Male</td>\n",
       "      <td>10164311</td>\n",
       "      <td>26000</td>\n",
       "      <td>110000</td>\n",
       "      <td>11</td>\n",
       "      <td>0</td>\n",
       "      <td>6</td>\n",
       "      <td>23</td>\n",
       "      <td>0</td>\n",
       "      <td>1</td>\n",
       "      <td>0</td>\n",
       "      <td>0</td>\n",
       "      <td>0</td>\n",
       "      <td>0</td>\n",
       "      <td>0</td>\n",
       "      <td>0</td>\n",
       "      <td>0</td>\n",
       "      <td>0</td>\n",
       "      <td>0</td>\n",
       "      <td>1</td>\n",
       "      <td>0</td>\n",
       "      <td>0</td>\n",
       "      <td>0</td>\n",
       "      <td>0</td>\n",
       "      <td>0</td>\n",
       "      <td>0</td>\n",
       "      <td>1</td>\n",
       "      <td>0</td>\n",
       "      <td>1</td>\n",
       "      <td>0</td>\n",
       "      <td>0</td>\n",
       "      <td>0</td>\n",
       "      <td>0</td>\n",
       "      <td>0</td>\n",
       "      <td>0</td>\n",
       "      <td>0</td>\n",
       "      <td>0</td>\n",
       "      <td>0</td>\n",
       "      <td>0</td>\n",
       "      <td>0</td>\n",
       "      <td>0</td>\n",
       "      <td>0</td>\n",
       "      <td>1</td>\n",
       "    </tr>\n",
       "  </tbody>\n",
       "</table>\n",
       "</div>"
      ],
      "text/plain": [
       "   Loan_ID_x  Loan_Amount_Requested_x  ... Gender_Female Gender_Male\n",
       "0   10164310                    27500  ...             0           1\n",
       "1   10164311                    26000  ...             0           1\n",
       "\n",
       "[2 rows x 54 columns]"
      ]
     },
     "execution_count": 31,
     "metadata": {
      "tags": []
     },
     "output_type": "execute_result"
    }
   ],
   "source": [
    "test5.head(2)"
   ]
  },
  {
   "cell_type": "code",
   "execution_count": 0,
   "metadata": {
    "colab": {
     "base_uri": "https://localhost:8080/",
     "height": 51
    },
    "colab_type": "code",
    "executionInfo": {
     "elapsed": 1989,
     "status": "ok",
     "timestamp": 1590918650711,
     "user": {
      "displayName": "manohar krishna",
      "photoUrl": "https://lh5.googleusercontent.com/-SOBYuW07vDs/AAAAAAAAAAI/AAAAAAAAAhA/-SN8VKCcpDY/s64/photo.jpg",
      "userId": "16281596230097021798"
     },
     "user_tz": -330
    },
    "id": "61sU1G9fTYhE",
    "outputId": "def1811e-2c47-42da-d97c-6493176eee8d"
   },
   "outputs": [
    {
     "name": "stdout",
     "output_type": "stream",
     "text": [
      "(164309, 56)\n",
      "(109541, 54)\n"
     ]
    }
   ],
   "source": [
    "print(train5.shape)\n",
    "print(test5.shape)"
   ]
  },
  {
   "cell_type": "code",
   "execution_count": 0,
   "metadata": {
    "colab": {},
    "colab_type": "code",
    "id": "dwhZ5YTTB69l"
   },
   "outputs": [],
   "source": [
    "x_train = train5.drop(['Loan_ID_x', 'Loan_Amount_Requested_x', 'Length_Employed', 'Home_Owner',\n",
    "       'Annual_Income_x', 'Income_Verified', 'Purpose_Of_Loan',\n",
    "       'Debt_To_Income_x', 'Inquiries_Last_6Mo_x', 'Number_Open_Accounts_x',\n",
    "       'Total_Accounts_x', 'Gender', 'Interest_Rate_x','Interest_Rate_y'], axis =1)\n",
    "y_train = train5['Interest_Rate_y']\n",
    "x_test = test5.drop(['Loan_ID_x', 'Loan_Amount_Requested_x', 'Length_Employed', 'Home_Owner',\n",
    "       'Annual_Income_x', 'Income_Verified', 'Purpose_Of_Loan',\n",
    "       'Debt_To_Income_x', 'Inquiries_Last_6Mo_x', 'Number_Open_Accounts_x',\n",
    "       'Total_Accounts_x', 'Gender'], axis =1)"
   ]
  },
  {
   "cell_type": "code",
   "execution_count": 0,
   "metadata": {
    "colab": {
     "base_uri": "https://localhost:8080/",
     "height": 68
    },
    "colab_type": "code",
    "executionInfo": {
     "elapsed": 1827,
     "status": "ok",
     "timestamp": 1590918651191,
     "user": {
      "displayName": "manohar krishna",
      "photoUrl": "https://lh5.googleusercontent.com/-SOBYuW07vDs/AAAAAAAAAAI/AAAAAAAAAhA/-SN8VKCcpDY/s64/photo.jpg",
      "userId": "16281596230097021798"
     },
     "user_tz": -330
    },
    "id": "zSmC5q8zXc-Y",
    "outputId": "a7dddd6b-9399-429b-cb05-4e8f509d95f5"
   },
   "outputs": [
    {
     "name": "stdout",
     "output_type": "stream",
     "text": [
      "(164309, 42)\n",
      "(164309,)\n",
      "(109541, 42)\n"
     ]
    }
   ],
   "source": [
    "print(x_train.shape)\n",
    "print(y_train.shape)\n",
    "print(x_test.shape)"
   ]
  },
  {
   "cell_type": "code",
   "execution_count": 0,
   "metadata": {
    "colab": {
     "base_uri": "https://localhost:8080/",
     "height": 1000
    },
    "colab_type": "code",
    "executionInfo": {
     "elapsed": 1454,
     "status": "error",
     "timestamp": 1590784125707,
     "user": {
      "displayName": "manohar krishna",
      "photoUrl": "https://lh5.googleusercontent.com/-SOBYuW07vDs/AAAAAAAAAAI/AAAAAAAAAhA/-SN8VKCcpDY/s64/photo.jpg",
      "userId": "16281596230097021798"
     },
     "user_tz": -330
    },
    "id": "gUUysXhSDVPR",
    "outputId": "32791e9d-65ed-4128-af42-128a6994c1a6"
   },
   "outputs": [
    {
     "name": "stdout",
     "output_type": "stream",
     "text": [
      "      Iter       Train Loss   Remaining Time \n",
      "         1      172040.9166           45.48m\n",
      "         2      170688.9529           45.87m\n",
      "         3      169451.7187           45.63m\n",
      "         4      168311.1673           45.38m\n",
      "         5      167266.0876           45.21m\n",
      "         6      166296.5075           45.15m\n",
      "         7      165411.0942           45.14m\n",
      "         8      164581.5888           45.09m\n",
      "         9      163812.2053           45.05m\n",
      "        10      163098.0488           44.95m\n",
      "        20      157876.9812           44.52m\n",
      "        30      154729.7847           43.88m\n",
      "        40      152604.0812           43.03m\n",
      "        50      150939.0548           42.21m\n",
      "        60      149676.5330           41.40m\n",
      "        70      148663.6401           40.58m\n",
      "        80      147787.2897           39.83m\n",
      "        90      146947.8300           39.12m\n",
      "       100      146170.2394           38.44m\n",
      "       200      140268.3729           32.22m\n",
      "       300      135717.9114           26.57m\n",
      "       400      131703.1633           21.14m\n",
      "       500      128006.7063           15.78m\n",
      "       600      124939.7789           10.47m\n",
      "       700      121921.9955            5.22m\n",
      "       800      118843.0082            0.00s\n",
      "      Iter       Train Loss   Remaining Time \n",
      "         1      137604.7309           34.71m\n",
      "         2      136495.3931           34.94m\n",
      "         3      135477.3069           34.75m\n",
      "         4      134544.9449           34.73m\n",
      "         5      133683.7160           34.70m\n",
      "         6      132894.7383           34.67m\n",
      "         7      132157.2788           34.64m\n",
      "         8      131473.3316           34.69m\n",
      "         9      130834.1672           34.64m\n",
      "        10      130226.8230           34.70m\n",
      "        20      125831.4444           34.12m\n",
      "        30      123158.9732           33.57m\n",
      "        40      121352.3634           33.04m\n",
      "        50      120009.2645           32.53m\n",
      "        60      118956.9987           31.98m\n",
      "        70      118043.3841           31.41m\n",
      "        80      117209.2846           30.86m\n",
      "        90      116457.4983           30.35m\n",
      "       100      115766.0386           29.80m\n",
      "       200      110591.9373           25.11m\n",
      "       300      106500.6291           20.74m\n",
      "       400      102924.6433           16.51m\n",
      "       500       99429.1643           12.33m\n",
      "       600       96178.0318            8.20m\n",
      "       700       93400.5093            4.08m\n",
      "       800       90546.6943            0.00s\n",
      "      Iter       Train Loss   Remaining Time \n",
      "         1      137595.7057           36.33m\n",
      "         2      136479.0114           35.95m\n",
      "         3      135461.7084           35.90m\n",
      "         4      134523.5330           35.71m\n",
      "         5      133669.6879           35.74m\n",
      "         6      132871.2528           35.67m\n",
      "         7      132139.4790           35.73m\n",
      "         8      131442.5654           35.69m\n",
      "         9      130800.3041           35.68m\n",
      "        10      130201.0140           35.66m\n",
      "        20      125827.7383           34.99m\n",
      "        30      123156.3936           34.55m\n",
      "        40      121327.8004           34.03m\n",
      "        50      119904.6191           33.42m\n",
      "        60      118739.9394           32.86m\n",
      "        70      117816.4364           32.33m\n",
      "        80      117006.7890           31.71m\n",
      "        90      116267.3173           31.14m\n",
      "       100      115592.3816           30.59m\n",
      "       200      110409.3042           25.56m\n",
      "       300      106230.5698           20.97m\n",
      "       400      102622.3445           16.64m\n",
      "       500       99188.4491           12.41m\n",
      "       600       96056.9101            8.24m\n"
     ]
    }
   ],
   "source": [
    "estimator = [\n",
    "             ('GBC', GradientBoostingClassifier(n_estimators=800, learning_rate=0.05, max_depth=8,verbose=1)),\n",
    "             ('LGBMC' , LGBMClassifier(objective='multiclass', boosting='gbdt', learning_rate = 0.05, max_depth = 8, n_estimators = 4000,verbose=1)),\n",
    "            #  ('XGBC' , XGBClassifier(max_depth=8, n_estimators=300, learning_rate=0.05))\n",
    "            #  ('CBC', CatBoostClassifier(iterations=5000, learning_rate=0.01, l2_leaf_reg=3.5, depth=8, rsm=0.98, loss_function= 'MultiClass', eval_metric='AUC'))\n",
    "            ]\n",
    "stack_model = StackingClassifier(estimators= estimator, final_estimator= LogisticRegression(solver = 'lbfgs'))\n",
    "stack_model.fit(x_train, y_train)\n",
    "y_pred = stack_model.predict(x_test)\n",
    "arr = pd.DataFrame(y_pred)"
   ]
  },
  {
   "cell_type": "code",
   "execution_count": 0,
   "metadata": {
    "colab": {},
    "colab_type": "code",
    "id": "ZteJZ-Nfxop1"
   },
   "outputs": [],
   "source": [
    "model = LGBMClassifier(objective='multiclass', boosting='gbdt', learning_rate = 0.05, max_depth = 8, n_estimators = 1000,verbose=1)\n",
    "model.fit(x_train, y_train)\n",
    "y_pred = model.predict(x_test)\n",
    "arr = pd.DataFrame(y_pred)"
   ]
  },
  {
   "cell_type": "code",
   "execution_count": 58,
   "metadata": {
    "colab": {
     "base_uri": "https://localhost:8080/",
     "height": 419
    },
    "colab_type": "code",
    "executionInfo": {
     "elapsed": 90,
     "status": "ok",
     "timestamp": 1590934444780,
     "user": {
      "displayName": "manohar krishna",
      "photoUrl": "https://lh5.googleusercontent.com/-SOBYuW07vDs/AAAAAAAAAAI/AAAAAAAAAhA/-SN8VKCcpDY/s64/photo.jpg",
      "userId": "16281596230097021798"
     },
     "user_tz": -330
    },
    "id": "fa8YCFdoG6Od",
    "outputId": "12645dcb-a3a7-4e24-a89b-4d8278cd5aa4"
   },
   "outputs": [
    {
     "data": {
      "text/html": [
       "<div>\n",
       "<style scoped>\n",
       "    .dataframe tbody tr th:only-of-type {\n",
       "        vertical-align: middle;\n",
       "    }\n",
       "\n",
       "    .dataframe tbody tr th {\n",
       "        vertical-align: top;\n",
       "    }\n",
       "\n",
       "    .dataframe thead th {\n",
       "        text-align: right;\n",
       "    }\n",
       "</style>\n",
       "<table border=\"1\" class=\"dataframe\">\n",
       "  <thead>\n",
       "    <tr style=\"text-align: right;\">\n",
       "      <th></th>\n",
       "      <th>0</th>\n",
       "    </tr>\n",
       "  </thead>\n",
       "  <tbody>\n",
       "    <tr>\n",
       "      <th>0</th>\n",
       "      <td>2</td>\n",
       "    </tr>\n",
       "    <tr>\n",
       "      <th>1</th>\n",
       "      <td>2</td>\n",
       "    </tr>\n",
       "    <tr>\n",
       "      <th>2</th>\n",
       "      <td>3</td>\n",
       "    </tr>\n",
       "    <tr>\n",
       "      <th>3</th>\n",
       "      <td>2</td>\n",
       "    </tr>\n",
       "    <tr>\n",
       "      <th>4</th>\n",
       "      <td>2</td>\n",
       "    </tr>\n",
       "    <tr>\n",
       "      <th>...</th>\n",
       "      <td>...</td>\n",
       "    </tr>\n",
       "    <tr>\n",
       "      <th>109536</th>\n",
       "      <td>3</td>\n",
       "    </tr>\n",
       "    <tr>\n",
       "      <th>109537</th>\n",
       "      <td>2</td>\n",
       "    </tr>\n",
       "    <tr>\n",
       "      <th>109538</th>\n",
       "      <td>2</td>\n",
       "    </tr>\n",
       "    <tr>\n",
       "      <th>109539</th>\n",
       "      <td>3</td>\n",
       "    </tr>\n",
       "    <tr>\n",
       "      <th>109540</th>\n",
       "      <td>2</td>\n",
       "    </tr>\n",
       "  </tbody>\n",
       "</table>\n",
       "<p>109541 rows × 1 columns</p>\n",
       "</div>"
      ],
      "text/plain": [
       "        0\n",
       "0       2\n",
       "1       2\n",
       "2       3\n",
       "3       2\n",
       "4       2\n",
       "...    ..\n",
       "109536  3\n",
       "109537  2\n",
       "109538  2\n",
       "109539  3\n",
       "109540  2\n",
       "\n",
       "[109541 rows x 1 columns]"
      ]
     },
     "execution_count": 58,
     "metadata": {
      "tags": []
     },
     "output_type": "execute_result"
    }
   ],
   "source": [
    "arr"
   ]
  },
  {
   "cell_type": "code",
   "execution_count": 0,
   "metadata": {
    "colab": {
     "base_uri": "https://localhost:8080/",
     "height": 85
    },
    "colab_type": "code",
    "executionInfo": {
     "elapsed": 2936239,
     "status": "ok",
     "timestamp": 1590899481278,
     "user": {
      "displayName": "manohar krishna",
      "photoUrl": "https://lh5.googleusercontent.com/-SOBYuW07vDs/AAAAAAAAAAI/AAAAAAAAAhA/-SN8VKCcpDY/s64/photo.jpg",
      "userId": "16281596230097021798"
     },
     "user_tz": -330
    },
    "id": "1Jlac8SIXrAK",
    "outputId": "2ca900c7-8687-4d14-ad21-d9e82f9ce2b5"
   },
   "outputs": [
    {
     "data": {
      "text/plain": [
       "2    63495\n",
       "3    32158\n",
       "1    13888\n",
       "Name: 0, dtype: int64"
      ]
     },
     "execution_count": 43,
     "metadata": {
      "tags": []
     },
     "output_type": "execute_result"
    }
   ],
   "source": [
    "arr[0].value_counts()"
   ]
  },
  {
   "cell_type": "code",
   "execution_count": 59,
   "metadata": {
    "colab": {
     "base_uri": "https://localhost:8080/",
     "height": 85
    },
    "colab_type": "code",
    "executionInfo": {
     "elapsed": 69,
     "status": "ok",
     "timestamp": 1590934444784,
     "user": {
      "displayName": "manohar krishna",
      "photoUrl": "https://lh5.googleusercontent.com/-SOBYuW07vDs/AAAAAAAAAAI/AAAAAAAAAhA/-SN8VKCcpDY/s64/photo.jpg",
      "userId": "16281596230097021798"
     },
     "user_tz": -330
    },
    "id": "qgLisapXjgFr",
    "outputId": "ed6552a3-694a-4adc-c289-5d228d37b06f"
   },
   "outputs": [
    {
     "data": {
      "text/plain": [
       "2    62215\n",
       "3    40855\n",
       "1     6471\n",
       "Name: 0, dtype: int64"
      ]
     },
     "execution_count": 59,
     "metadata": {
      "tags": []
     },
     "output_type": "execute_result"
    }
   ],
   "source": [
    "arr[0].value_counts()"
   ]
  },
  {
   "cell_type": "code",
   "execution_count": 0,
   "metadata": {
    "colab": {},
    "colab_type": "code",
    "id": "URwdoU473G9K"
   },
   "outputs": [],
   "source": [
    "from google.colab import files\n",
    "arr.to_csv('arr9.csv')\n",
    "files.download('arr9.csv')"
   ]
  },
  {
   "cell_type": "code",
   "execution_count": 0,
   "metadata": {
    "colab": {},
    "colab_type": "code",
    "id": "Z4JYVmN03j9m"
   },
   "outputs": [],
   "source": []
  }
 ],
 "metadata": {
  "colab": {
   "collapsed_sections": [],
   "name": "analyics_vidya_janatha_hack_bank.ipynb",
   "provenance": []
  },
  "kernelspec": {
   "display_name": "Python 3",
   "language": "python",
   "name": "python3"
  },
  "language_info": {
   "codemirror_mode": {
    "name": "ipython",
    "version": 3
   },
   "file_extension": ".py",
   "mimetype": "text/x-python",
   "name": "python",
   "nbconvert_exporter": "python",
   "pygments_lexer": "ipython3",
   "version": "3.6.10"
  }
 },
 "nbformat": 4,
 "nbformat_minor": 1
}
